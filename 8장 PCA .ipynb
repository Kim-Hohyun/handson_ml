{
 "cells": [
  {
   "cell_type": "markdown",
   "metadata": {},
   "source": [
    "## PCA 기본"
   ]
  },
  {
   "cell_type": "markdown",
   "metadata": {},
   "source": [
    "#### svd를 이용해 PCA 원리를 알아보자."
   ]
  },
  {
   "cell_type": "code",
   "execution_count": 154,
   "metadata": {},
   "outputs": [],
   "source": [
    "# 임의의 데이터 셋 생성\n",
    "import numpy as np\n",
    "np.random.seed(40)\n",
    "X = np.empty((5, 3))\n",
    "X[:, 0] = np.random.randint(10, size=5)\n",
    "X[:, 1] = np.random.randint(10, size=5)\n",
    "X[:, 2] = np.random.randint(10, size=5)"
   ]
  },
  {
   "cell_type": "code",
   "execution_count": 155,
   "metadata": {},
   "outputs": [],
   "source": [
    "# X의 각 컬럼 평균이 0이 되도록 한 뒤, svd를 한다. \n",
    "X_centered = X - X.mean(axis=0) # column별 평균. axis 지정 없으면 모든 원소의 평균 산출\n",
    "U, s, Vt = np.linalg.svd(X_centered)\n",
    "\n",
    "# V의 컬럼 벡터가 바로 principal component를 나타낸다. c1과 c2가 이루는 공간이 데이터의 분산을 최대로 하는 2D 공간이다.\n",
    "c1 = Vt.T[:,0]\n",
    "c2 = Vt.T[:,1]"
   ]
  },
  {
   "cell_type": "markdown",
   "metadata": {},
   "source": [
    "svd의 결과를 확인해보자."
   ]
  },
  {
   "cell_type": "code",
   "execution_count": 156,
   "metadata": {},
   "outputs": [
    {
     "data": {
      "text/plain": [
       "array([8.79689728, 3.36178969, 0.33610766])"
      ]
     },
     "execution_count": 156,
     "metadata": {},
     "output_type": "execute_result"
    }
   ],
   "source": [
    "# s는 행렬이 아니라, singular values의 배열이다.\n",
    "s"
   ]
  },
  {
   "cell_type": "code",
   "execution_count": 157,
   "metadata": {},
   "outputs": [],
   "source": [
    "# s를 대각 행렬로 만들어주자.\n",
    "m, n = X.shape\n",
    "S = np.zeros((m,n))\n",
    "S[:n, :n] = np.diag(s) # diag()는 원소 배열을 받아서 대칭행렬을 만들어준다."
   ]
  },
  {
   "cell_type": "code",
   "execution_count": 158,
   "metadata": {},
   "outputs": [
    {
     "data": {
      "text/plain": [
       "True"
      ]
     },
     "execution_count": 158,
     "metadata": {},
     "output_type": "execute_result"
    }
   ],
   "source": [
    "# np.allclose()는 두 행렬의 각 원소가 '거의' 같다면 True를 산출한다.\n",
    "np.allclose(X_centered, U.dot(S).dot(Vt))"
   ]
  },
  {
   "cell_type": "markdown",
   "metadata": {},
   "source": [
    "이제 training set을 2D로 투사한 행렬을 구해보자. <br>\n",
    "방법은 principal component 벡터들로 내적하면 된다."
   ]
  },
  {
   "cell_type": "code",
   "execution_count": 159,
   "metadata": {},
   "outputs": [],
   "source": [
    "W2 = Vt.T[:,:2]\n",
    "X2D = X_centered.dot(W2)\n",
    "X2D_using_svd = X2D"
   ]
  },
  {
   "cell_type": "markdown",
   "metadata": {},
   "source": [
    "각각의 주성분이 전체 데이터 셋의 분산을 어느 정도 설명하는지 구해보자."
   ]
  },
  {
   "cell_type": "code",
   "execution_count": 160,
   "metadata": {},
   "outputs": [
    {
     "data": {
      "text/plain": [
       "array([0.87145723, 0.12727061, 0.00127217])"
      ]
     },
     "execution_count": 160,
     "metadata": {},
     "output_type": "execute_result"
    }
   ],
   "source": [
    "np.square(s) / np.square(s).sum()"
   ]
  },
  {
   "cell_type": "markdown",
   "metadata": {},
   "source": [
    "#### sklearn을 이용한 PCA"
   ]
  },
  {
   "cell_type": "code",
   "execution_count": 142,
   "metadata": {},
   "outputs": [],
   "source": [
    "import numpy as np\n",
    "np.random.seed(40)\n",
    "X = np.empty((5, 3))\n",
    "X[:, 0] = np.random.randint(10, size=5)\n",
    "X[:, 1] = np.random.randint(10, size=5)\n",
    "X[:, 2] = np.random.randint(10, size=5)"
   ]
  },
  {
   "cell_type": "code",
   "execution_count": 143,
   "metadata": {},
   "outputs": [],
   "source": [
    "from sklearn.decomposition import PCA\n",
    "\n",
    "pca = PCA(n_components = 2)\n",
    "X2D = pca.fit_transform(X)"
   ]
  },
  {
   "cell_type": "code",
   "execution_count": 144,
   "metadata": {},
   "outputs": [
    {
     "data": {
      "text/plain": [
       "array([[-0.29149684,  0.40247035,  0.86778293],\n",
       "       [-0.1040623 , -0.91513828,  0.38947781]])"
      ]
     },
     "execution_count": 144,
     "metadata": {},
     "output_type": "execute_result"
    }
   ],
   "source": [
    "# components_에서 principal components로 접근 가능. principal components가 로우 벡터로 들어있음에 유의.\n",
    "pca.components_"
   ]
  },
  {
   "cell_type": "markdown",
   "metadata": {},
   "source": [
    "svd를 이용한 PCA 결과와 비교해보자. <br>\n",
    "데이터 셋에 따라서는 일부 축의 부호가 반대가 되기도 한다."
   ]
  },
  {
   "cell_type": "code",
   "execution_count": 147,
   "metadata": {},
   "outputs": [
    {
     "data": {
      "text/plain": [
       "array([[ 2.4340759 ,  2.16682155],\n",
       "       [-1.731023  ,  1.41998629],\n",
       "       [ 6.47349035, -1.52585194],\n",
       "       [-4.22339827, -0.76764772],\n",
       "       [-2.95314499, -1.29330819]])"
      ]
     },
     "execution_count": 147,
     "metadata": {},
     "output_type": "execute_result"
    }
   ],
   "source": [
    "X2D"
   ]
  },
  {
   "cell_type": "code",
   "execution_count": 148,
   "metadata": {},
   "outputs": [
    {
     "data": {
      "text/plain": [
       "array([[-2.4340759 ,  2.16682155],\n",
       "       [ 1.731023  ,  1.41998629],\n",
       "       [-6.47349035, -1.52585194],\n",
       "       [ 4.22339827, -0.76764772],\n",
       "       [ 2.95314499, -1.29330819]])"
      ]
     },
     "execution_count": 148,
     "metadata": {},
     "output_type": "execute_result"
    }
   ],
   "source": [
    "X2D_using_svd"
   ]
  },
  {
   "cell_type": "code",
   "execution_count": 152,
   "metadata": {},
   "outputs": [
    {
     "data": {
      "text/plain": [
       "array([0.87145723, 0.12727061])"
      ]
     },
     "execution_count": 152,
     "metadata": {},
     "output_type": "execute_result"
    }
   ],
   "source": [
    "# 각각의 축이 분산을 얼마나 설명하는지 알아보자.\n",
    "pca.explained_variance_ratio_\n",
    "\n",
    "# 해석: 제1주성분이 데이터 셋 전체 분산의 87%를 설명한다. "
   ]
  },
  {
   "cell_type": "code",
   "execution_count": 153,
   "metadata": {},
   "outputs": [
    {
     "data": {
      "text/plain": [
       "0.0012721662080202867"
      ]
     },
     "execution_count": 153,
     "metadata": {},
     "output_type": "execute_result"
    }
   ],
   "source": [
    "# 2D로 투영하면서 분산의 0.1% 정도 손실했다.\n",
    "1 - pca.explained_variance_ratio_.sum()"
   ]
  },
  {
   "cell_type": "code",
   "execution_count": 161,
   "metadata": {},
   "outputs": [
    {
     "data": {
      "text/plain": [
       "array([0.87145723, 0.12727061, 0.00127217])"
      ]
     },
     "execution_count": 161,
     "metadata": {},
     "output_type": "execute_result"
    }
   ],
   "source": [
    "# 이 역시 svd로 구한 결과와 다르지 않다.\n",
    "np.square(s) / np.square(s).sum()"
   ]
  },
  {
   "cell_type": "markdown",
   "metadata": {},
   "source": [
    "#### 몇 차원으로 감소시킬지 정하기"
   ]
  },
  {
   "cell_type": "markdown",
   "metadata": {},
   "source": [
    "차원 감소는 분산을 많이 잃지 않는 선에서 하는 것이 좋다. 예) 95% <br>\n",
    "몇 차원으로 감소시킬지 transform 매서드를 이용하기 전에 미리 계산해보자."
   ]
  },
  {
   "cell_type": "code",
   "execution_count": 170,
   "metadata": {},
   "outputs": [
    {
     "data": {
      "text/plain": [
       "array([0.87145723, 0.99872783, 1.        ])"
      ]
     },
     "execution_count": 170,
     "metadata": {},
     "output_type": "execute_result"
    }
   ],
   "source": [
    "pca = PCA()\n",
    "pca.fit(X)\n",
    "\n",
    "# np.cumsum은 누적 합을 계산한 배열을 반환한다.\n",
    "cumsum = np.cumsum(pca.explained_variance_ratio_)\n",
    "cumsum"
   ]
  },
  {
   "cell_type": "code",
   "execution_count": 171,
   "metadata": {},
   "outputs": [
    {
     "data": {
      "text/plain": [
       "2"
      ]
     },
     "execution_count": 171,
     "metadata": {},
     "output_type": "execute_result"
    }
   ],
   "source": [
    "# np.argmax는 최댓값의 인덱스를 반환한다. \n",
    "# 단 최댓값이 여러 개 있을 경우, 앞 원소의 인덱스가 반환된다.\n",
    "d = np.argmax(cumsum >=0.95) + 1\n",
    "d # d차원으로 투영하면 95% 이상의 분산을 유지할 수 있다."
   ]
  },
  {
   "cell_type": "code",
   "execution_count": 183,
   "metadata": {
    "scrolled": true
   },
   "outputs": [
    {
     "data": {
      "text/plain": [
       "array([[ 2.4340759 ,  2.16682155],\n",
       "       [-1.731023  ,  1.41998629],\n",
       "       [ 6.47349035, -1.52585194],\n",
       "       [-4.22339827, -0.76764772],\n",
       "       [-2.95314499, -1.29330819]])"
      ]
     },
     "execution_count": 183,
     "metadata": {},
     "output_type": "execute_result"
    }
   ],
   "source": [
    "pca = PCA(d)\n",
    "pca.fit_transform(X)"
   ]
  },
  {
   "cell_type": "markdown",
   "metadata": {},
   "source": [
    "분산 설명력 95%를 유지하는 또 다른 방법"
   ]
  },
  {
   "cell_type": "code",
   "execution_count": 184,
   "metadata": {},
   "outputs": [
    {
     "data": {
      "text/plain": [
       "array([[ 2.4340759 ,  2.16682155],\n",
       "       [-1.731023  ,  1.41998629],\n",
       "       [ 6.47349035, -1.52585194],\n",
       "       [-4.22339827, -0.76764772],\n",
       "       [-2.95314499, -1.29330819]])"
      ]
     },
     "execution_count": 184,
     "metadata": {},
     "output_type": "execute_result"
    }
   ],
   "source": [
    "pca = PCA(0.95)\n",
    "pca.fit_transform(X)"
   ]
  },
  {
   "cell_type": "markdown",
   "metadata": {},
   "source": [
    "그림을 보고 어디까지 차원을 감소시킬지 판단하자"
   ]
  },
  {
   "cell_type": "code",
   "execution_count": 197,
   "metadata": {},
   "outputs": [
    {
     "data": {
      "image/png": "[encoded data removed]",
      "text/plain": [
       "<Figure size 432x288 with 1 Axes>"
      ]
     },
     "metadata": {
      "needs_background": "light"
     },
     "output_type": "display_data"
    }
   ],
   "source": [
    "import matplotlib.pyplot as plt\n",
    "\n",
    "plt.plot(range(len(cumsum)+1), [0]+list(cumsum))\n",
    "plt.ylabel('Explained variance')\n",
    "plt.xlabel('Dimensions')\n",
    "plt.show()"
   ]
  },
  {
   "cell_type": "markdown",
   "metadata": {},
   "source": [
    "#### 차원 축소 복원하기\n",
    "(projection matrix) = (original data)(n_components=d matrix) <br>\n",
    "(projection matrix)(n_components=d matrix).T = (recovered data)"
   ]
  },
  {
   "cell_type": "code",
   "execution_count": 201,
   "metadata": {},
   "outputs": [
    {
     "data": {
      "text/plain": [
       "array([[6., 2., 7.],\n",
       "       [7., 1., 3.],\n",
       "       [5., 7., 9.],\n",
       "       [8., 2., 0.],\n",
       "       [8., 3., 1.]])"
      ]
     },
     "execution_count": 201,
     "metadata": {},
     "output_type": "execute_result"
    }
   ],
   "source": [
    "np.random.seed(40)\n",
    "X = np.empty((5, 3))\n",
    "X[:, 0] = np.random.randint(10, size=5)\n",
    "X[:, 1] = np.random.randint(10, size=5)\n",
    "X[:, 2] = np.random.randint(10, size=5)\n",
    "X"
   ]
  },
  {
   "cell_type": "code",
   "execution_count": 202,
   "metadata": {},
   "outputs": [
    {
     "data": {
      "text/plain": [
       "array([[5.86499014, 1.99670203, 6.95617843],\n",
       "       [7.15682069, 1.00383075, 3.05090095],\n",
       "       [5.07178169, 7.00175345, 9.02329894],\n",
       "       [8.11099042, 2.00271123, 0.03602533],\n",
       "       [7.79541705, 2.99500253, 0.93359635]])"
      ]
     },
     "execution_count": 202,
     "metadata": {},
     "output_type": "execute_result"
    }
   ],
   "source": [
    "# pca.inverse_transform 매서드 사용.\n",
    "\n",
    "pca = PCA(n_components = 2)\n",
    "X_reduced = pca.fit_transform(X)\n",
    "X_recovered = pca.inverse_transform(X_reduced)\n",
    "X_recovered"
   ]
  },
  {
   "cell_type": "markdown",
   "metadata": {},
   "source": [
    "보다시피 약간의 정보 손실이 있다."
   ]
  },
  {
   "cell_type": "code",
   "execution_count": 203,
   "metadata": {},
   "outputs": [
    {
     "data": {
      "text/plain": [
       "False"
      ]
     },
     "execution_count": 203,
     "metadata": {},
     "output_type": "execute_result"
    }
   ],
   "source": [
    "np.allclose(X, X_recovered)"
   ]
  },
  {
   "cell_type": "markdown",
   "metadata": {},
   "source": [
    "정보 손실의 측도를 재구성 오차(reconstruction error)라 하며, 다음과 같이 구한다."
   ]
  },
  {
   "cell_type": "code",
   "execution_count": 205,
   "metadata": {},
   "outputs": [
    {
     "data": {
      "text/plain": [
       "0.022593671854439234"
      ]
     },
     "execution_count": 205,
     "metadata": {},
     "output_type": "execute_result"
    }
   ],
   "source": [
    "np.mean(np.sum(np.square(X_recovered - X), axis=1))"
   ]
  },
  {
   "cell_type": "markdown",
   "metadata": {},
   "source": [
    "svd 방식으로도 재구성해보자."
   ]
  },
  {
   "cell_type": "code",
   "execution_count": 212,
   "metadata": {},
   "outputs": [
    {
     "data": {
      "text/plain": [
       "array([[5.86499014, 1.99670203, 6.95617843],\n",
       "       [7.15682069, 1.00383075, 3.05090095],\n",
       "       [5.07178169, 7.00175345, 9.02329894],\n",
       "       [8.11099042, 2.00271123, 0.03602533],\n",
       "       [7.79541705, 2.99500253, 0.93359635]])"
      ]
     },
     "execution_count": 212,
     "metadata": {},
     "output_type": "execute_result"
    }
   ],
   "source": [
    "X2D_using_svd.dot(Vt[:2, :]) + X.mean(axis=0)"
   ]
  },
  {
   "cell_type": "markdown",
   "metadata": {},
   "source": [
    "## p.276 이하에서는 데이터 셋이 클 경우 사용할 수 있는 방법과 매니폴드 학습 등을 다룬다."
   ]
  }
 ],
 "metadata": {
  "kernelspec": {
   "display_name": "Python 3",
   "language": "python",
   "name": "python3"
  },
  "language_info": {
   "codemirror_mode": {
    "name": "ipython",
    "version": 3
   },
   "file_extension": ".py",
   "mimetype": "text/x-python",
   "name": "python",
   "nbconvert_exporter": "python",
   "pygments_lexer": "ipython3",
   "version": "3.6.8"
  }
 },
 "nbformat": 4,
 "nbformat_minor": 2
}
